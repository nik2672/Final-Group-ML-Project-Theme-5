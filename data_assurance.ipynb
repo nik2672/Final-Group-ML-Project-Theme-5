{
 "cells": [
  {
   "cell_type": "markdown",
   "id": "f5696112",
   "metadata": {},
   "source": [
    "# DATA ASSURANCE"
   ]
  },
  {
   "cell_type": "code",
   "execution_count": 1,
   "id": "1e917e37",
   "metadata": {},
   "outputs": [],
   "source": [
    "# Load post-imputation dataset and initialize quality assessment tools\n",
    "import os\n",
    "import pandas as pd\n",
    "from pathlib import Path\n",
    "from scipy.stats import zscore\n",
    "\n",
    "data_folder = Path.cwd() / 'data'\n",
    "df = pd.read_csv(os.path.join(data_folder, 'my_clean_data_with_imputation.csv'))"
   ]
  },
  {
   "cell_type": "markdown",
   "id": "a5aa579b",
   "metadata": {},
   "source": [
    "## Dataset Dimensions Check"
   ]
  },
  {
   "cell_type": "code",
   "execution_count": 2,
   "id": "b8132aa6",
   "metadata": {},
   "outputs": [
    {
     "name": "stdout",
     "output_type": "stream",
     "text": [
      "Initial dataset shape: (2837629, 13)\n"
     ]
    }
   ],
   "source": [
    "# Verify dataset size and structure for baseline understanding\n",
    "print(\"Initial dataset shape:\", df.shape)"
   ]
  },
  {
   "cell_type": "markdown",
   "id": "bdb3df91",
   "metadata": {},
   "source": [
    "## Duplicate Row Detection"
   ]
  },
  {
   "cell_type": "code",
   "execution_count": 3,
   "id": "60b62ef8",
   "metadata": {},
   "outputs": [
    {
     "name": "stdout",
     "output_type": "stream",
     "text": [
      "Duplicate rows: 109379\n"
     ]
    }
   ],
   "source": [
    "# Identify exact duplicate rows that may inflate model performance\n",
    "duplicates = df.duplicated().sum()\n",
    "print(f\"Duplicate rows: {duplicates}\")"
   ]
  },
  {
   "cell_type": "markdown",
   "id": "4ec99d0a",
   "metadata": {},
   "source": [
    "## GPS Coordinate Validation"
   ]
  },
  {
   "cell_type": "code",
   "execution_count": 4,
   "id": "89a9b467",
   "metadata": {},
   "outputs": [
    {
     "name": "stdout",
     "output_type": "stream",
     "text": [
      "Invalid GPS rows: 0\n"
     ]
    }
   ],
   "source": [
    "# Check for invalid latitude/longitude values outside valid geographic ranges\n",
    "invalid_gps = df[(df[\"latitude\"] < -90) | (df[\"latitude\"] > 90) | (df[\"longitude\"] < -180) | (df[\"longitude\"] > 180)]\n",
    "print(f\"Invalid GPS rows: {len(invalid_gps)}\")"
   ]
  },
  {
   "cell_type": "markdown",
   "id": "0b60f678",
   "metadata": {},
   "source": [
    "## Negative Value Validation"
   ]
  },
  {
   "cell_type": "code",
   "execution_count": 5,
   "id": "ce5b7f25",
   "metadata": {},
   "outputs": [
    {
     "name": "stdout",
     "output_type": "stream",
     "text": [
      "Negative latency values: 0\n",
      "Negative throughput values: 0\n"
     ]
    }
   ],
   "source": [
    "# Detect logically impossible negative values in latency and throughput metrics\n",
    "neg_latency = (df[[\"svr1\", \"svr2\", \"svr3\", \"svr4\"]] < 0).sum().sum()\n",
    "neg_throughput = (df[[\"upload_bitrate_mbits/sec\", \"download_bitrate_rx_mbits/sec\"]] < 0).sum().sum()\n",
    "print(f\"Negative latency values: {neg_latency}\")\n",
    "print(f\"Negative throughput values: {neg_throughput}\")"
   ]
  },
  {
   "cell_type": "markdown",
   "id": "12667545",
   "metadata": {},
   "source": [
    "## Define Key Metric Column Groups"
   ]
  },
  {
   "cell_type": "code",
   "execution_count": 6,
   "id": "1ce7a80e",
   "metadata": {},
   "outputs": [],
   "source": [
    "# Organize column names for consistent analysis across latency and throughput features\n",
    "latency_cols = [\"svr1\", \"svr2\", \"svr3\", \"svr4\"]\n",
    "throughput_cols = [\"upload_bitrate_mbits/sec\", \"download_bitrate_rx_mbits/sec\"]"
   ]
  },
  {
   "cell_type": "markdown",
   "id": "ca30ebf0",
   "metadata": {},
   "source": [
    "## Post-Imputation Completeness Verification"
   ]
  },
  {
   "cell_type": "code",
   "execution_count": 7,
   "id": "d0c72a4a",
   "metadata": {},
   "outputs": [
    {
     "name": "stdout",
     "output_type": "stream",
     "text": [
      "Missing values remaining: 0 (should be 0 after imputation)\n"
     ]
    }
   ],
   "source": [
    "# Ensure imputation process successfully eliminated all missing values\n",
    "missing_any = df.isna().sum().sum()\n",
    "print(f\"Missing values remaining: {missing_any} (should be 0 after imputation)\")"
   ]
  },
  {
   "cell_type": "markdown",
   "id": "9b05ad3d",
   "metadata": {},
   "source": [
    "## Data Type Schema Validation"
   ]
  },
  {
   "cell_type": "code",
   "execution_count": 8,
   "id": "bc0cc3e8",
   "metadata": {},
   "outputs": [
    {
     "name": "stdout",
     "output_type": "stream",
     "text": [
      "Non-numeric columns that should be numeric: None\n"
     ]
    }
   ],
   "source": [
    "# Verify critical columns maintain expected numeric data types for ML compatibility\n",
    "expected_numeric = [\"svr1\", \"svr2\", \"svr3\", \"svr4\", \"upload_bitrate_mbits/sec\", \"download_bitrate_rx_mbits/sec\", \"latitude\", \"longitude\"]\n",
    "type_issues = []\n",
    "for col in expected_numeric:\n",
    "    if col in df.columns and not pd.api.types.is_numeric_dtype(df[col]):\n",
    "        type_issues.append(f\"{col}: {df[col].dtype}\")\n",
    "print(f\"Non-numeric columns that should be numeric: {type_issues if type_issues else 'None'}\")"
   ]
  },
  {
   "cell_type": "markdown",
   "id": "68e7131d",
   "metadata": {},
   "source": [
    "## Feature Variance Assessment"
   ]
  },
  {
   "cell_type": "code",
   "execution_count": 9,
   "id": "a409df77",
   "metadata": {},
   "outputs": [
    {
     "name": "stdout",
     "output_type": "stream",
     "text": [
      "Zero/constant variance columns: None\n"
     ]
    }
   ],
   "source": [
    "# Identify zero or constant variance columns that provide no predictive value\n",
    "import numpy as np\n",
    "\n",
    "numeric_cols = df.select_dtypes(include=[np.number]).columns\n",
    "zero_var = [col for col in numeric_cols if df[col].nunique() <= 1]\n",
    "print(f\"Zero/constant variance columns: {zero_var if zero_var else 'None'}\")"
   ]
  },
  {
   "cell_type": "markdown",
   "id": "eb6850be",
   "metadata": {},
   "source": [
    "## Row-Level Anomaly Detection"
   ]
  },
  {
   "cell_type": "code",
   "execution_count": 10,
   "id": "6e005a30",
   "metadata": {},
   "outputs": [
    {
     "name": "stdout",
     "output_type": "stream",
     "text": [
      "Rows with extreme values (z>3): 74191\n",
      "\n",
      "Dataset ready for EDA: 2837629 rows, 13 columns\n"
     ]
    }
   ],
   "source": [
    "# Count complete records with extreme values for comprehensive outlier assessment\n",
    "zscores = df[latency_cols + throughput_cols].apply(zscore)\n",
    "extreme_rows = (zscores.abs() > 3).any(axis=1).sum()\n",
    "print(f\"Rows with extreme values (z>3): {extreme_rows}\")\n",
    "\n",
    "print(f\"\\nDataset ready for EDA: {len(df)} rows, {len(df.columns)} columns\")"
   ]
  },
  {
   "cell_type": "markdown",
   "id": "c187f03a",
   "metadata": {},
   "source": [
    "## Remove Duplicate Rows and Save Clean Dataset"
   ]
  },
  {
   "cell_type": "code",
   "execution_count": 11,
   "id": "da764dd7",
   "metadata": {},
   "outputs": [
    {
     "name": "stdout",
     "output_type": "stream",
     "text": [
      "Before duplicate removal: (2837629, 13)\n",
      "After duplicate removal: (2728250, 13)\n",
      "Removed 109379 duplicate rows\n",
      "\n",
      " Clean dataset saved to: data/my_clean_data_after_assurance.csv\n",
      " Ready for EDA: 2728250 rows, 13 columns\n",
      "\n",
      "Next steps:\n",
      "1. Use the new file for EDA: pd.read_csv('data/my_clean_data_after_assurance.csv')\n",
      "2. Original file preserved at: data/my_clean_data_with_imputation.csv\n"
     ]
    }
   ],
   "source": [
    "# Based on investigation - these are data collection errors, not valid measurements\n",
    "print(\"Before duplicate removal:\", df.shape)\n",
    "df_clean = df.drop_duplicates()\n",
    "print(\"After duplicate removal:\", df_clean.shape)\n",
    "print(f\"Removed {len(df) - len(df_clean)} duplicate rows\")\n",
    "\n",
    "# Save cleaned dataset to new file for EDA team\n",
    "output_file = \"data/my_clean_data_after_assurance.csv\"\n",
    "df_clean.to_csv(output_file, index=False)\n",
    "print(f\"\\n Clean dataset saved to: {output_file}\")\n",
    "print(f\" Ready for EDA: {len(df_clean)} rows, {len(df_clean.columns)} columns\")\n",
    "print(\"\\nNext steps:\")\n",
    "print(\"1. Use the new file for EDA: pd.read_csv('data/my_clean_data_after_assurance.csv')\")\n",
    "print(\"2. Original file preserved at: data/my_clean_data_with_imputation.csv\")"
   ]
  }
 ],
 "metadata": {
  "kernelspec": {
   "display_name": "homl",
   "language": "python",
   "name": "python3"
  },
  "language_info": {
   "codemirror_mode": {
    "name": "ipython",
    "version": 3
   },
   "file_extension": ".py",
   "mimetype": "text/x-python",
   "name": "python",
   "nbconvert_exporter": "python",
   "pygments_lexer": "ipython3",
   "version": "3.10.16"
  }
 },
 "nbformat": 4,
 "nbformat_minor": 5
}
