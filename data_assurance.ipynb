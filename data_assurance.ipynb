{
 "cells": [
  {
   "cell_type": "code",
   "execution_count": null,
   "id": "1e917e37",
   "metadata": {},
   "outputs": [],
   "source": [
    "# Data Assurance for Final Group ML Project - Theme 5\n",
    "# Load post-imputation dataset and initialize quality assessment tools\n",
    "import pandas as pd\n",
    "from scipy.stats import zscore\n",
    "\n",
    "df = pd.read_csv(\"data/my_clean_data_with_imputation.csv\")"
   ]
  },
  {
   "cell_type": "code",
   "execution_count": null,
   "id": "b8132aa6",
   "metadata": {},
   "outputs": [
    {
     "name": "stdout",
     "output_type": "stream",
     "text": [
      "Initial dataset shape: (2837629, 13)\n"
     ]
    }
   ],
   "source": [
    "# Dataset Dimensions Check\n",
    "# Verify dataset size and structure for baseline understanding\n",
    "print(\"Initial dataset shape:\", df.shape)"
   ]
  },
  {
   "cell_type": "code",
   "execution_count": null,
   "id": "60b62ef8",
   "metadata": {},
   "outputs": [
    {
     "name": "stdout",
     "output_type": "stream",
     "text": [
      "Duplicate rows: 109379\n"
     ]
    }
   ],
   "source": [
    "# Duplicate Row Detection\n",
    "# Identify exact duplicate rows that may inflate model performance\n",
    "duplicates = df.duplicated().sum()\n",
    "print(f\"Duplicate rows: {duplicates}\")"
   ]
  },
  {
   "cell_type": "code",
   "execution_count": null,
   "id": "89a9b467",
   "metadata": {},
   "outputs": [
    {
     "name": "stdout",
     "output_type": "stream",
     "text": [
      "Invalid GPS rows: 0\n"
     ]
    }
   ],
   "source": [
    "# GPS Coordinate Validation\n",
    "# Check for invalid latitude/longitude values outside valid geographic ranges\n",
    "invalid_gps = df[(df[\"latitude\"] < -90) | (df[\"latitude\"] > 90) | (df[\"longitude\"] < -180) | (df[\"longitude\"] > 180)]\n",
    "print(f\"Invalid GPS rows: {len(invalid_gps)}\")"
   ]
  },
  {
   "cell_type": "code",
   "execution_count": null,
   "id": "ce5b7f25",
   "metadata": {},
   "outputs": [
    {
     "name": "stdout",
     "output_type": "stream",
     "text": [
      "Negative latency values: 0\n",
      "Negative throughput values: 0\n"
     ]
    }
   ],
   "source": [
    "# Negative Value Validation\n",
    "# Detect logically impossible negative values in latency and throughput metrics\n",
    "neg_latency = (df[[\"svr1\", \"svr2\", \"svr3\", \"svr4\"]] < 0).sum().sum()\n",
    "neg_throughput = (df[[\"upload_bitrate_mbits/sec\", \"download_bitrate_rx_mbits/sec\"]] < 0).sum().sum()\n",
    "print(f\"Negative latency values: {neg_latency}\")\n",
    "print(f\"Negative throughput values: {neg_throughput}\")"
   ]
  },
  {
   "cell_type": "code",
   "execution_count": null,
   "id": "1ce7a80e",
   "metadata": {},
   "outputs": [],
   "source": [
    "# Define Key Metric Column Groups\n",
    "# Organize column names for consistent analysis across latency and throughput features\n",
    "latency_cols = [\"svr1\", \"svr2\", \"svr3\", \"svr4\"]\n",
    "throughput_cols = [\"upload_bitrate_mbits/sec\", \"download_bitrate_rx_mbits/sec\"]"
   ]
  },
  {
   "cell_type": "code",
   "execution_count": null,
   "id": "d0c72a4a",
   "metadata": {},
   "outputs": [
    {
     "name": "stdout",
     "output_type": "stream",
     "text": [
      "Missing values remaining: 0 (should be 0 after imputation)\n"
     ]
    }
   ],
   "source": [
    "# Post-Imputation Completeness Verification\n",
    "# Ensure imputation process successfully eliminated all missing values\n",
    "missing_any = df.isna().sum().sum()\n",
    "print(f\"Missing values remaining: {missing_any} (should be 0 after imputation)\")"
   ]
  },
  {
   "cell_type": "code",
   "execution_count": null,
   "id": "bc0cc3e8",
   "metadata": {},
   "outputs": [
    {
     "name": "stdout",
     "output_type": "stream",
     "text": [
      "Non-numeric columns that should be numeric: None\n"
     ]
    }
   ],
   "source": [
    "# Data Type Schema Validation\n",
    "# Verify critical columns maintain expected numeric data types for ML compatibility\n",
    "expected_numeric = [\"svr1\", \"svr2\", \"svr3\", \"svr4\", \"upload_bitrate_mbits/sec\", \"download_bitrate_rx_mbits/sec\", \"latitude\", \"longitude\"]\n",
    "type_issues = []\n",
    "for col in expected_numeric:\n",
    "    if col in df.columns and not pd.api.types.is_numeric_dtype(df[col]):\n",
    "        type_issues.append(f\"{col}: {df[col].dtype}\")\n",
    "print(f\"Non-numeric columns that should be numeric: {type_issues if type_issues else 'None'}\")"
   ]
  },
  {
   "cell_type": "code",
   "execution_count": null,
   "id": "a409df77",
   "metadata": {},
   "outputs": [
    {
     "name": "stdout",
     "output_type": "stream",
     "text": [
      "Zero/constant variance columns: None\n"
     ]
    }
   ],
   "source": [
    "# Feature Variance Assessment\n",
    "# Identify zero or constant variance columns that provide no predictive value\n",
    "import numpy as np\n",
    "\n",
    "numeric_cols = df.select_dtypes(include=[np.number]).columns\n",
    "zero_var = [col for col in numeric_cols if df[col].nunique() <= 1]\n",
    "print(f\"Zero/constant variance columns: {zero_var if zero_var else 'None'}\")"
   ]
  },
  {
   "cell_type": "code",
   "execution_count": null,
   "id": "6e005a30",
   "metadata": {},
   "outputs": [
    {
     "name": "stdout",
     "output_type": "stream",
     "text": [
      "Rows with extreme values (z>3): 74191\n",
      "\n",
      "✓ Dataset ready for EDA: 2837629 rows, 13 columns\n"
     ]
    }
   ],
   "source": [
    "# Row-Level Anomaly Detection\n",
    "# Count complete records with extreme values for comprehensive outlier assessment\n",
    "zscores = df[latency_cols + throughput_cols].apply(zscore)\n",
    "extreme_rows = (zscores.abs() > 3).any(axis=1).sum()\n",
    "print(f\"Rows with extreme values (z>3): {extreme_rows}\")\n",
    "\n",
    "print(f\"\\n✓ Dataset ready for EDA: {len(df)} rows, {len(df.columns)} columns\")"
   ]
  },
  {
   "cell_type": "code",
   "execution_count": null,
   "id": "da764dd7",
   "metadata": {},
   "outputs": [],
   "source": [
    "# CRITICAL: Remove Duplicate Rows and Save Clean Dataset\n",
    "# Based on investigation - these are data collection errors, not valid measurements\n",
    "print(\"Before duplicate removal:\", df.shape)\n",
    "df_clean = df.drop_duplicates()\n",
    "print(\"After duplicate removal:\", df_clean.shape)\n",
    "print(f\"Removed {len(df) - len(df_clean)} duplicate rows\")\n",
    "\n",
    "# Save cleaned dataset to new file for EDA team\n",
    "output_file = \"data/my_clean_data_after_assurance.csv\"\n",
    "df_clean.to_csv(output_file, index=False)\n",
    "print(f\"\\n Clean dataset saved to: {output_file}\")\n",
    "print(f\" Ready for EDA: {len(df_clean)} rows, {len(df_clean.columns)} columns\")\n",
    "print(\"\\nNext steps:\")\n",
    "print(\"1. Use the new file for EDA: pd.read_csv('data/my_clean_data_after_assurance.csv')\")\n",
    "print(\"2. Original file preserved at: data/my_clean_data_with_imputation.csv\")"
   ]
  }
 ],
 "metadata": {
  "kernelspec": {
   "display_name": "base",
   "language": "python",
   "name": "python3"
  },
  "language_info": {
   "codemirror_mode": {
    "name": "ipython",
    "version": 3
   },
   "file_extension": ".py",
   "mimetype": "text/x-python",
   "name": "python",
   "nbconvert_exporter": "python",
   "pygments_lexer": "ipython3",
   "version": "3.12.7"
  }
 },
 "nbformat": 4,
 "nbformat_minor": 5
}
