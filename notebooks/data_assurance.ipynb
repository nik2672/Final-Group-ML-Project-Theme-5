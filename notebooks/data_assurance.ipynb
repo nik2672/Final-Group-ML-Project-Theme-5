{
 "cells": [
  {
   "cell_type": "markdown",
   "id": "f5696112",
   "metadata": {},
   "source": [
    "# DATA ASSURANCE"
   ]
  },
  {
   "cell_type": "code",
   "execution_count": null,
   "id": "1e917e37",
   "metadata": {},
   "outputs": [],
   "source": "# Load post-imputation dataset and initialize quality assessment tools\nimport os\nimport pandas as pd\nfrom pathlib import Path\nfrom scipy.stats import zscore\n\ndata_folder = Path.cwd() / 'data'\ndf = pd.read_csv(os.path.join(data_folder, 'my_clean_data_with_imputation.csv'))\n\n# Process data by day using day_id\nif 'day_id' in df.columns:\n    print(f\"Processing data by day using day_id column\")\n    unique_days = sorted(df['day_id'].unique())\n    print(f\"Number of unique days: {len(unique_days)}\")\nelse:\n    print(\"Warning: No day_id column found in dataset\")\n    unique_days = []"
  },
  {
   "cell_type": "markdown",
   "id": "a5aa579b",
   "metadata": {},
   "source": [
    "## Dataset Dimensions Check"
   ]
  },
  {
   "cell_type": "code",
   "execution_count": 2,
   "id": "b8132aa6",
   "metadata": {},
   "outputs": [
    {
     "name": "stdout",
     "output_type": "stream",
     "text": [
      "Initial dataset shape: (2837629, 13)\n"
     ]
    }
   ],
   "source": [
    "# Verify dataset size and structure for baseline understanding\n",
    "print(\"Initial dataset shape:\", df.shape)"
   ]
  },
  {
   "cell_type": "markdown",
   "id": "bdb3df91",
   "metadata": {},
   "source": [
    "## Duplicate Row Detection"
   ]
  },
  {
   "cell_type": "code",
   "execution_count": null,
   "id": "60b62ef8",
   "metadata": {},
   "outputs": [],
   "source": "# Identify exact duplicate rows that may inflate model performance\nduplicates = df.duplicated().sum()\nprint(f\"Duplicate rows: {duplicates}\")\n\n# Process by day if day_id column exists\nif 'day_id' in df.columns and len(unique_days) > 0:\n    print(\"\\nDuplicates by day:\")\n    for day in unique_days:\n        day_data = df[df['day_id'] == day]\n        day_duplicates = day_data.duplicated().sum()\n        print(f\"Day {day}: {day_duplicates} duplicates\")"
  },
  {
   "cell_type": "markdown",
   "id": "4ec99d0a",
   "metadata": {},
   "source": [
    "## GPS Coordinate Validation"
   ]
  },
  {
   "cell_type": "code",
   "execution_count": null,
   "id": "89a9b467",
   "metadata": {},
   "outputs": [],
   "source": "# Check for invalid latitude/longitude values outside valid geographic ranges\ninvalid_gps = df[(df[\"latitude\"] < -90) | (df[\"latitude\"] > 90) | (df[\"longitude\"] < -180) | (df[\"longitude\"] > 180)]\nprint(f\"Invalid GPS rows: {len(invalid_gps)}\")\n\n# Process by day if day_id column exists\nif 'day_id' in df.columns and len(unique_days) > 0:\n    print(\"\\nInvalid GPS by day:\")\n    for day in unique_days:\n        day_data = df[df['day_id'] == day]\n        day_invalid = day_data[(day_data[\"latitude\"] < -90) | (day_data[\"latitude\"] > 90) | (day_data[\"longitude\"] < -180) | (day_data[\"longitude\"] > 180)]\n        print(f\"Day {day}: {len(day_invalid)} invalid GPS rows\")"
  },
  {
   "cell_type": "markdown",
   "id": "0b60f678",
   "metadata": {},
   "source": [
    "## Negative Value Validation"
   ]
  },
  {
   "cell_type": "code",
   "execution_count": null,
   "id": "ce5b7f25",
   "metadata": {},
   "outputs": [],
   "source": "# Detect logically impossible negative values in latency and throughput metrics\nneg_latency = (df[[\"svr1\", \"svr2\", \"svr3\", \"svr4\"]] < 0).sum().sum()\nneg_throughput = (df[[\"upload_bitrate_mbits/sec\", \"download_bitrate_rx_mbits/sec\"]] < 0).sum().sum()\nprint(f\"Negative latency values: {neg_latency}\")\nprint(f\"Negative throughput values: {neg_throughput}\")\n\n# Process by day if day_id column exists\nif 'day_id' in df.columns and len(unique_days) > 0:\n    print(\"\\nNegative values by day:\")\n    for day in unique_days:\n        day_data = df[df['day_id'] == day]\n        day_neg_latency = (day_data[[\"svr1\", \"svr2\", \"svr3\", \"svr4\"]] < 0).sum().sum()\n        day_neg_throughput = (day_data[[\"upload_bitrate_mbits/sec\", \"download_bitrate_rx_mbits/sec\"]] < 0).sum().sum()\n        print(f\"Day {day}: {day_neg_latency} negative latency, {day_neg_throughput} negative throughput\")"
  },
  {
   "cell_type": "markdown",
   "id": "12667545",
   "metadata": {},
   "source": [
    "## Define Key Metric Column Groups"
   ]
  },
  {
   "cell_type": "code",
   "execution_count": 6,
   "id": "1ce7a80e",
   "metadata": {},
   "outputs": [],
   "source": [
    "# Organize column names for consistent analysis across latency and throughput features\n",
    "latency_cols = [\"svr1\", \"svr2\", \"svr3\", \"svr4\"]\n",
    "throughput_cols = [\"upload_bitrate_mbits/sec\", \"download_bitrate_rx_mbits/sec\"]"
   ]
  },
  {
   "cell_type": "markdown",
   "id": "ca30ebf0",
   "metadata": {},
   "source": [
    "## Post-Imputation Completeness Verification"
   ]
  },
  {
   "cell_type": "code",
   "execution_count": 7,
   "id": "d0c72a4a",
   "metadata": {},
   "outputs": [
    {
     "name": "stdout",
     "output_type": "stream",
     "text": [
      "Missing values remaining: 0 (should be 0 after imputation)\n"
     ]
    }
   ],
   "source": [
    "# Ensure imputation process successfully eliminated all missing values\n",
    "missing_any = df.isna().sum().sum()\n",
    "print(f\"Missing values remaining: {missing_any} (should be 0 after imputation)\")"
   ]
  },
  {
   "cell_type": "markdown",
   "id": "9b05ad3d",
   "metadata": {},
   "source": [
    "## Data Type Schema Validation"
   ]
  },
  {
   "cell_type": "code",
   "execution_count": 8,
   "id": "bc0cc3e8",
   "metadata": {},
   "outputs": [
    {
     "name": "stdout",
     "output_type": "stream",
     "text": [
      "Non-numeric columns that should be numeric: None\n"
     ]
    }
   ],
   "source": [
    "# Verify critical columns maintain expected numeric data types for ML compatibility\n",
    "expected_numeric = [\"svr1\", \"svr2\", \"svr3\", \"svr4\", \"upload_bitrate_mbits/sec\", \"download_bitrate_rx_mbits/sec\", \"latitude\", \"longitude\"]\n",
    "type_issues = []\n",
    "for col in expected_numeric:\n",
    "    if col in df.columns and not pd.api.types.is_numeric_dtype(df[col]):\n",
    "        type_issues.append(f\"{col}: {df[col].dtype}\")\n",
    "print(f\"Non-numeric columns that should be numeric: {type_issues if type_issues else 'None'}\")"
   ]
  },
  {
   "cell_type": "markdown",
   "id": "68e7131d",
   "metadata": {},
   "source": [
    "## Feature Variance Assessment"
   ]
  },
  {
   "cell_type": "code",
   "execution_count": 9,
   "id": "a409df77",
   "metadata": {},
   "outputs": [
    {
     "name": "stdout",
     "output_type": "stream",
     "text": [
      "Zero/constant variance columns: None\n"
     ]
    }
   ],
   "source": [
    "# Identify zero or constant variance columns that provide no predictive value\n",
    "import numpy as np\n",
    "\n",
    "numeric_cols = df.select_dtypes(include=[np.number]).columns\n",
    "zero_var = [col for col in numeric_cols if df[col].nunique() <= 1]\n",
    "print(f\"Zero/constant variance columns: {zero_var if zero_var else 'None'}\")"
   ]
  },
  {
   "cell_type": "markdown",
   "id": "eb6850be",
   "metadata": {},
   "source": [
    "## Row-Level Anomaly Detection"
   ]
  },
  {
   "cell_type": "code",
   "execution_count": null,
   "id": "6e005a30",
   "metadata": {},
   "outputs": [],
   "source": "# Count complete records with extreme values for comprehensive outlier assessment\nzscores = df[latency_cols + throughput_cols].apply(zscore)\nextreme_rows = (zscores.abs() > 3).any(axis=1).sum()\nprint(f\"Rows with extreme values (z>3): {extreme_rows}\")\n\n# Process by day if day_id column exists\nif 'day_id' in df.columns and len(unique_days) > 0:\n    print(\"\\nExtreme values by day:\")\n    for day in unique_days:\n        day_data = df[df['day_id'] == day]\n        day_zscores = day_data[latency_cols + throughput_cols].apply(zscore)\n        day_extreme = (day_zscores.abs() > 3).any(axis=1).sum()\n        print(f\"Day {day}: {day_extreme} rows with extreme values\")\n\nprint(f\"\\nDataset ready for EDA: {len(df)} rows, {len(df.columns)} columns\")"
  },
  {
   "cell_type": "markdown",
   "id": "c187f03a",
   "metadata": {},
   "source": [
    "## Remove Duplicate Rows and Save Clean Dataset"
   ]
  },
  {
   "cell_type": "code",
   "execution_count": null,
   "id": "da764dd7",
   "metadata": {},
   "outputs": [],
   "source": "# Based on investigation - these are data collection errors, not valid measurements\nprint(\"Before duplicate removal:\", df.shape)\ndf_clean = df.drop_duplicates()\nprint(\"After duplicate removal:\", df_clean.shape)\nprint(f\"Removed {len(df) - len(df_clean)} duplicate rows\")\n\n# Process by day and combine knowledge\nif 'day_id' in df_clean.columns and len(unique_days) > 0:\n    print(f\"\\nProcessing and combining knowledge by day:\")\n    daily_stats = []\n    for day in unique_days:\n        day_data = df_clean[df_clean['day_id'] == day]\n        stats = {\n            'day': day,\n            'records': len(day_data),\n            'avg_latency': day_data[latency_cols].mean().mean(),\n            'avg_throughput': day_data[throughput_cols].mean().mean()\n        }\n        daily_stats.append(stats)\n        print(f\"Day {day}: {len(day_data)} records, avg latency: {stats['avg_latency']:.2f}ms, avg throughput: {stats['avg_throughput']:.2f}Mbps\")\n    \n    # Combine daily knowledge into summary\n    daily_df = pd.DataFrame(daily_stats)\n    print(\"\\nCombined daily knowledge:\")\n    print(daily_df)\n\n# Save cleaned dataset to new file for EDA team\noutput_file = \"data/my_clean_data_after_assurance.csv\"\ndf_clean.to_csv(output_file, index=False)\nprint(f\"\\n Clean dataset saved to: {output_file}\")\nprint(f\" Ready for EDA: {len(df_clean)} rows, {len(df_clean.columns)} columns\")\nprint(\"\\nNext steps:\")\nprint(\"1. Use the new file for EDA: pd.read_csv('data/my_clean_data_after_assurance.csv')\")\nprint(\"2. Original file preserved at: data/my_clean_data_with_imputation.csv\")"
  }
 ],
 "metadata": {
  "kernelspec": {
   "display_name": "homl",
   "language": "python",
   "name": "python3"
  },
  "language_info": {
   "codemirror_mode": {
    "name": "ipython",
    "version": 3
   },
   "file_extension": ".py",
   "mimetype": "text/x-python",
   "name": "python",
   "nbconvert_exporter": "python",
   "pygments_lexer": "ipython3",
   "version": "3.10.16"
  }
 },
 "nbformat": 4,
 "nbformat_minor": 5
}