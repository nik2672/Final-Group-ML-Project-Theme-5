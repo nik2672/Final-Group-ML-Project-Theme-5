{
 "cells": [
  {
   "cell_type": "markdown",
   "id": "f5696112",
   "metadata": {},
   "source": [
    "# DATA ASSURANCE"
   ]
  },
  {
   "cell_type": "code",
   "execution_count": 15,
   "id": "1e917e37",
   "metadata": {},
   "outputs": [
    {
     "name": "stdout",
     "output_type": "stream",
     "text": [
      "Successfully loaded dataset from: c:\\Users\\13min\\Final-Group-ML-Project-Theme-5\\data\\my_clean_data_with_imputation.csv\n",
      "Processing data by day using day_id column\n",
      "Number of unique days: 15\n"
     ]
    }
   ],
   "source": [
    "# Load post-imputation dataset and initialize quality assessment tools\n",
    "import os\n",
    "import pandas as pd\n",
    "from pathlib import Path\n",
    "from scipy.stats import zscore\n",
    "\n",
    "# Fix path to go up one directory level from notebooks/ to project root\n",
    "data_folder = Path.cwd().parent / 'data'\n",
    "data_file = data_folder / 'my_clean_data_with_imputation.csv'\n",
    "if data_file.exists():\n",
    "    df = pd.read_csv(data_file)\n",
    "    print(f\"Successfully loaded dataset from: {data_file}\")\n",
    "else:\n",
    "    raise FileNotFoundError(f\"File not found: {data_file}\")\n",
    "\n",
    "# Process data by day using day_id\n",
    "if 'day_id' in df.columns:\n",
    "    print(f\"Processing data by day using day_id column\")\n",
    "    unique_days = sorted(df['day_id'].unique())\n",
    "    print(f\"Number of unique days: {len(unique_days)}\")\n",
    "else:\n",
    "    print(\"Warning: No day_id column found in dataset\")\n",
    "    unique_days = []"
   ]
  },
  {
   "cell_type": "markdown",
   "id": "a5aa579b",
   "metadata": {},
   "source": [
    "## Dataset Dimensions Check"
   ]
  },
  {
   "cell_type": "code",
   "execution_count": 16,
   "id": "b8132aa6",
   "metadata": {},
   "outputs": [
    {
     "name": "stdout",
     "output_type": "stream",
     "text": [
      "Initial dataset shape: (4987646, 16)\n"
     ]
    }
   ],
   "source": [
    "# Verify dataset size and structure for baseline understanding\n",
    "print(\"Initial dataset shape:\", df.shape)"
   ]
  },
  {
   "cell_type": "markdown",
   "id": "bdb3df91",
   "metadata": {},
   "source": [
    "## Duplicate Row Detection"
   ]
  },
  {
   "cell_type": "code",
   "execution_count": 17,
   "id": "60b62ef8",
   "metadata": {},
   "outputs": [
    {
     "name": "stdout",
     "output_type": "stream",
     "text": [
      "Duplicate rows: 2548494\n",
      "\n",
      "Duplicates by day:\n",
      "Day 2022.0-7-11: 171737 duplicates\n",
      "Day 2022.0-7-12: 177688 duplicates\n",
      "Day 2022.0-7-13: 137569 duplicates\n",
      "Day 2022.0-7-12: 177688 duplicates\n",
      "Day 2022.0-7-13: 137569 duplicates\n",
      "Day 2022.0-7-14: 156841 duplicates\n",
      "Day 2022.0-7-15: 157606 duplicates\n",
      "Day 2022.0-7-14: 156841 duplicates\n",
      "Day 2022.0-7-15: 157606 duplicates\n",
      "Day 2022.0-7-18: 147975 duplicates\n",
      "Day 2022.0-7-19: 120109 duplicates\n",
      "Day 2022.0-7-18: 147975 duplicates\n",
      "Day 2022.0-7-19: 120109 duplicates\n",
      "Day 2022.0-7-20: 146310 duplicates\n",
      "Day 2022.0-7-21: 164225 duplicates\n",
      "Day 2022.0-7-20: 146310 duplicates\n",
      "Day 2022.0-7-21: 164225 duplicates\n",
      "Day 2022.0-7-22: 165310 duplicates\n",
      "Day 2022.0-7-22: 165310 duplicates\n",
      "Day 2022.0-7-4: 232235 duplicates\n",
      "Day 2022.0-7-5: 216023 duplicates\n",
      "Day 2022.0-7-4: 232235 duplicates\n",
      "Day 2022.0-7-5: 216023 duplicates\n",
      "Day 2022.0-7-6: 222498 duplicates\n",
      "Day 2022.0-7-7: 165639 duplicates\n",
      "Day 2022.0-7-6: 222498 duplicates\n",
      "Day 2022.0-7-7: 165639 duplicates\n",
      "Day 2022.0-7-8: 166729 duplicates\n",
      "Day 2022.0-7-8: 166729 duplicates\n"
     ]
    }
   ],
   "source": [
    "# Identify exact duplicate rows that may inflate model performance\n",
    "duplicates = df.duplicated().sum()\n",
    "print(f\"Duplicate rows: {duplicates}\")\n",
    "\n",
    "# Process by day if day_id column exists\n",
    "if 'day_id' in df.columns and len(unique_days) > 0:\n",
    "    print(\"\\nDuplicates by day:\")\n",
    "    for day in unique_days:\n",
    "        day_data = df[df['day_id'] == day]\n",
    "        day_duplicates = day_data.duplicated().sum()\n",
    "        print(f\"Day {day}: {day_duplicates} duplicates\")"
   ]
  },
  {
   "cell_type": "markdown",
   "id": "4ec99d0a",
   "metadata": {},
   "source": [
    "## GPS Coordinate Validation"
   ]
  },
  {
   "cell_type": "code",
   "execution_count": 18,
   "id": "89a9b467",
   "metadata": {},
   "outputs": [
    {
     "name": "stdout",
     "output_type": "stream",
     "text": [
      "Invalid GPS rows: 0\n",
      "\n",
      "Invalid GPS by day:\n",
      "Day 2022.0-7-11: 0 invalid GPS rows\n",
      "Day 2022.0-7-12: 0 invalid GPS rows\n",
      "Day 2022.0-7-11: 0 invalid GPS rows\n",
      "Day 2022.0-7-12: 0 invalid GPS rows\n",
      "Day 2022.0-7-13: 0 invalid GPS rows\n",
      "Day 2022.0-7-13: 0 invalid GPS rows\n",
      "Day 2022.0-7-14: 0 invalid GPS rows\n",
      "Day 2022.0-7-15: 0 invalid GPS rows\n",
      "Day 2022.0-7-14: 0 invalid GPS rows\n",
      "Day 2022.0-7-15: 0 invalid GPS rows\n",
      "Day 2022.0-7-18: 0 invalid GPS rows\n",
      "Day 2022.0-7-18: 0 invalid GPS rows\n",
      "Day 2022.0-7-19: 0 invalid GPS rows\n",
      "Day 2022.0-7-20: 0 invalid GPS rows\n",
      "Day 2022.0-7-19: 0 invalid GPS rows\n",
      "Day 2022.0-7-20: 0 invalid GPS rows\n",
      "Day 2022.0-7-21: 0 invalid GPS rows\n",
      "Day 2022.0-7-21: 0 invalid GPS rows\n",
      "Day 2022.0-7-22: 0 invalid GPS rows\n",
      "Day 2022.0-7-4: 0 invalid GPS rows\n",
      "Day 2022.0-7-22: 0 invalid GPS rows\n",
      "Day 2022.0-7-4: 0 invalid GPS rows\n",
      "Day 2022.0-7-5: 0 invalid GPS rows\n",
      "Day 2022.0-7-5: 0 invalid GPS rows\n",
      "Day 2022.0-7-6: 0 invalid GPS rows\n",
      "Day 2022.0-7-7: 0 invalid GPS rows\n",
      "Day 2022.0-7-6: 0 invalid GPS rows\n",
      "Day 2022.0-7-7: 0 invalid GPS rows\n",
      "Day 2022.0-7-8: 0 invalid GPS rows\n",
      "Day 2022.0-7-8: 0 invalid GPS rows\n"
     ]
    }
   ],
   "source": [
    "# Check for invalid latitude/longitude values outside valid geographic ranges\n",
    "invalid_gps = df[(df[\"latitude\"] < -90) | (df[\"latitude\"] > 90) | (df[\"longitude\"] < -180) | (df[\"longitude\"] > 180)]\n",
    "print(f\"Invalid GPS rows: {len(invalid_gps)}\")\n",
    "\n",
    "# Process by day if day_id column exists\n",
    "if 'day_id' in df.columns and len(unique_days) > 0:\n",
    "    print(\"\\nInvalid GPS by day:\")\n",
    "    for day in unique_days:\n",
    "        day_data = df[df['day_id'] == day]\n",
    "        day_invalid = day_data[(day_data[\"latitude\"] < -90) | (day_data[\"latitude\"] > 90) | (day_data[\"longitude\"] < -180) | (day_data[\"longitude\"] > 180)]\n",
    "        print(f\"Day {day}: {len(day_invalid)} invalid GPS rows\")"
   ]
  },
  {
   "cell_type": "markdown",
   "id": "0b60f678",
   "metadata": {},
   "source": [
    "## Negative Value Validation"
   ]
  },
  {
   "cell_type": "code",
   "execution_count": 19,
   "id": "ce5b7f25",
   "metadata": {},
   "outputs": [
    {
     "name": "stdout",
     "output_type": "stream",
     "text": [
      "Negative latency values: 0\n",
      "Negative throughput values: 0\n",
      "\n",
      "Negative values by day:\n",
      "Day 2022.0-7-11: 0 negative latency, 0 negative throughput\n",
      "Day 2022.0-7-11: 0 negative latency, 0 negative throughput\n",
      "Day 2022.0-7-12: 0 negative latency, 0 negative throughput\n",
      "Day 2022.0-7-13: 0 negative latency, 0 negative throughput\n",
      "Day 2022.0-7-12: 0 negative latency, 0 negative throughput\n",
      "Day 2022.0-7-13: 0 negative latency, 0 negative throughput\n",
      "Day 2022.0-7-14: 0 negative latency, 0 negative throughput\n",
      "Day 2022.0-7-15: 0 negative latency, 0 negative throughput\n",
      "Day 2022.0-7-18: 0 negative latency, 0 negative throughput\n",
      "Day 2022.0-7-14: 0 negative latency, 0 negative throughput\n",
      "Day 2022.0-7-15: 0 negative latency, 0 negative throughput\n",
      "Day 2022.0-7-18: 0 negative latency, 0 negative throughput\n",
      "Day 2022.0-7-19: 0 negative latency, 0 negative throughput\n",
      "Day 2022.0-7-20: 0 negative latency, 0 negative throughput\n",
      "Day 2022.0-7-21: 0 negative latency, 0 negative throughput\n",
      "Day 2022.0-7-19: 0 negative latency, 0 negative throughput\n",
      "Day 2022.0-7-20: 0 negative latency, 0 negative throughput\n",
      "Day 2022.0-7-21: 0 negative latency, 0 negative throughput\n",
      "Day 2022.0-7-22: 0 negative latency, 0 negative throughput\n",
      "Day 2022.0-7-4: 0 negative latency, 0 negative throughput\n",
      "Day 2022.0-7-22: 0 negative latency, 0 negative throughput\n",
      "Day 2022.0-7-4: 0 negative latency, 0 negative throughput\n",
      "Day 2022.0-7-5: 0 negative latency, 0 negative throughput\n",
      "Day 2022.0-7-6: 0 negative latency, 0 negative throughput\n",
      "Day 2022.0-7-7: 0 negative latency, 0 negative throughput\n",
      "Day 2022.0-7-5: 0 negative latency, 0 negative throughput\n",
      "Day 2022.0-7-6: 0 negative latency, 0 negative throughput\n",
      "Day 2022.0-7-7: 0 negative latency, 0 negative throughput\n",
      "Day 2022.0-7-8: 0 negative latency, 0 negative throughput\n",
      "Day 2022.0-7-8: 0 negative latency, 0 negative throughput\n"
     ]
    }
   ],
   "source": [
    "# Detect logically impossible negative values in latency and throughput metrics\n",
    "neg_latency = (df[[\"svr1\", \"svr2\", \"svr3\", \"svr4\"]] < 0).sum().sum()\n",
    "neg_throughput = (df[[\"upload_bitrate_mbits/sec\", \"download_bitrate_rx_mbits/sec\"]] < 0).sum().sum()\n",
    "print(f\"Negative latency values: {neg_latency}\")\n",
    "print(f\"Negative throughput values: {neg_throughput}\")\n",
    "\n",
    "# Process by day if day_id column exists\n",
    "if 'day_id' in df.columns and len(unique_days) > 0:\n",
    "    print(\"\\nNegative values by day:\")\n",
    "    for day in unique_days:\n",
    "        day_data = df[df['day_id'] == day]\n",
    "        day_neg_latency = (day_data[[\"svr1\", \"svr2\", \"svr3\", \"svr4\"]] < 0).sum().sum()\n",
    "        day_neg_throughput = (day_data[[\"upload_bitrate_mbits/sec\", \"download_bitrate_rx_mbits/sec\"]] < 0).sum().sum()\n",
    "        print(f\"Day {day}: {day_neg_latency} negative latency, {day_neg_throughput} negative throughput\")"
   ]
  },
  {
   "cell_type": "markdown",
   "id": "12667545",
   "metadata": {},
   "source": [
    "## Define Key Metric Column Groups"
   ]
  },
  {
   "cell_type": "code",
   "execution_count": 20,
   "id": "1ce7a80e",
   "metadata": {},
   "outputs": [],
   "source": [
    "# Organize column names for consistent analysis across latency and throughput features\n",
    "latency_cols = [\"svr1\", \"svr2\", \"svr3\", \"svr4\"]\n",
    "throughput_cols = [\"upload_bitrate_mbits/sec\", \"download_bitrate_rx_mbits/sec\"]"
   ]
  },
  {
   "cell_type": "markdown",
   "id": "ca30ebf0",
   "metadata": {},
   "source": [
    "## Post-Imputation Completeness Verification"
   ]
  },
  {
   "cell_type": "code",
   "execution_count": 21,
   "id": "d0c72a4a",
   "metadata": {},
   "outputs": [
    {
     "name": "stdout",
     "output_type": "stream",
     "text": [
      "Missing values remaining: 0 (should be 0 after imputation)\n"
     ]
    }
   ],
   "source": [
    "# Ensure imputation process successfully eliminated all missing values\n",
    "missing_any = df.isna().sum().sum()\n",
    "print(f\"Missing values remaining: {missing_any} (should be 0 after imputation)\")"
   ]
  },
  {
   "cell_type": "markdown",
   "id": "9b05ad3d",
   "metadata": {},
   "source": [
    "## Data Type Schema Validation"
   ]
  },
  {
   "cell_type": "code",
   "execution_count": 22,
   "id": "bc0cc3e8",
   "metadata": {},
   "outputs": [
    {
     "name": "stdout",
     "output_type": "stream",
     "text": [
      "Non-numeric columns that should be numeric: None\n"
     ]
    }
   ],
   "source": [
    "# Verify critical columns maintain expected numeric data types for ML compatibility\n",
    "expected_numeric = [\"svr1\", \"svr2\", \"svr3\", \"svr4\", \"upload_bitrate_mbits/sec\", \"download_bitrate_rx_mbits/sec\", \"latitude\", \"longitude\"]\n",
    "type_issues = []\n",
    "for col in expected_numeric:\n",
    "    if col in df.columns and not pd.api.types.is_numeric_dtype(df[col]):\n",
    "        type_issues.append(f\"{col}: {df[col].dtype}\")\n",
    "print(f\"Non-numeric columns that should be numeric: {type_issues if type_issues else 'None'}\")"
   ]
  },
  {
   "cell_type": "markdown",
   "id": "68e7131d",
   "metadata": {},
   "source": [
    "## Feature Variance Assessment"
   ]
  },
  {
   "cell_type": "code",
   "execution_count": 23,
   "id": "a409df77",
   "metadata": {},
   "outputs": [
    {
     "name": "stdout",
     "output_type": "stream",
     "text": [
      "Zero/constant variance columns: None\n"
     ]
    }
   ],
   "source": [
    "# Identify zero or constant variance columns that provide no predictive value\n",
    "import numpy as np\n",
    "\n",
    "numeric_cols = df.select_dtypes(include=[np.number]).columns\n",
    "zero_var = [col for col in numeric_cols if df[col].nunique() <= 1]\n",
    "print(f\"Zero/constant variance columns: {zero_var if zero_var else 'None'}\")"
   ]
  },
  {
   "cell_type": "markdown",
   "id": "eb6850be",
   "metadata": {},
   "source": [
    "## Row-Level Anomaly Detection"
   ]
  },
  {
   "cell_type": "code",
   "execution_count": 24,
   "id": "6e005a30",
   "metadata": {},
   "outputs": [
    {
     "name": "stdout",
     "output_type": "stream",
     "text": [
      "Rows with extreme values (z>3): 120850\n",
      "\n",
      "Extreme values by day:\n",
      "Day 2022.0-7-11: 7364 rows with extreme values\n",
      "Day 2022.0-7-12: 8094 rows with extreme values\n",
      "Day 2022.0-7-13: 30326 rows with extreme values\n",
      "Day 2022.0-7-12: 8094 rows with extreme values\n",
      "Day 2022.0-7-13: 30326 rows with extreme values\n",
      "Day 2022.0-7-14: 4750 rows with extreme values\n",
      "Day 2022.0-7-15: 7324 rows with extreme values\n",
      "Day 2022.0-7-14: 4750 rows with extreme values\n",
      "Day 2022.0-7-15: 7324 rows with extreme values\n",
      "Day 2022.0-7-18: 5802 rows with extreme values\n",
      "Day 2022.0-7-19: 2468 rows with extreme values\n",
      "Day 2022.0-7-18: 5802 rows with extreme values\n",
      "Day 2022.0-7-19: 2468 rows with extreme values\n",
      "Day 2022.0-7-20: 3466 rows with extreme values\n",
      "Day 2022.0-7-21: 8328 rows with extreme values\n",
      "Day 2022.0-7-20: 3466 rows with extreme values\n",
      "Day 2022.0-7-21: 8328 rows with extreme values\n",
      "Day 2022.0-7-22: 6250 rows with extreme values\n",
      "Day 2022.0-7-4: 9588 rows with extreme values\n",
      "Day 2022.0-7-22: 6250 rows with extreme values\n",
      "Day 2022.0-7-4: 9588 rows with extreme values\n",
      "Day 2022.0-7-5: 14942 rows with extreme values\n",
      "Day 2022.0-7-6: 10938 rows with extreme values\n",
      "Day 2022.0-7-5: 14942 rows with extreme values\n",
      "Day 2022.0-7-6: 10938 rows with extreme values\n",
      "Day 2022.0-7-7: 7014 rows with extreme values\n",
      "Day 2022.0-7-8: 7730 rows with extreme values\n",
      "\n",
      "Dataset ready for EDA: 4987646 rows, 16 columns\n",
      "Day 2022.0-7-7: 7014 rows with extreme values\n",
      "Day 2022.0-7-8: 7730 rows with extreme values\n",
      "\n",
      "Dataset ready for EDA: 4987646 rows, 16 columns\n"
     ]
    }
   ],
   "source": [
    "# Count complete records with extreme values for comprehensive outlier assessment\n",
    "zscores = df[latency_cols + throughput_cols].apply(zscore)\n",
    "extreme_rows = (zscores.abs() > 3).any(axis=1).sum()\n",
    "print(f\"Rows with extreme values (z>3): {extreme_rows}\")\n",
    "\n",
    "# Process by day if day_id column exists\n",
    "if 'day_id' in df.columns and len(unique_days) > 0:\n",
    "    print(\"\\nExtreme values by day:\")\n",
    "    for day in unique_days:\n",
    "        day_data = df[df['day_id'] == day]\n",
    "        day_zscores = day_data[latency_cols + throughput_cols].apply(zscore)\n",
    "        day_extreme = (day_zscores.abs() > 3).any(axis=1).sum()\n",
    "        print(f\"Day {day}: {day_extreme} rows with extreme values\")\n",
    "\n",
    "print(f\"\\nDataset ready for EDA: {len(df)} rows, {len(df.columns)} columns\")"
   ]
  },
  {
   "cell_type": "markdown",
   "id": "c187f03a",
   "metadata": {},
   "source": [
    "## Remove Duplicate Rows and Save Clean Dataset"
   ]
  },
  {
   "cell_type": "code",
   "execution_count": 25,
   "id": "da764dd7",
   "metadata": {},
   "outputs": [
    {
     "name": "stdout",
     "output_type": "stream",
     "text": [
      "Before duplicate removal: (4987646, 16)\n",
      "After duplicate removal: (2439152, 16)\n",
      "Removed 2548494 duplicate rows\n",
      "\n",
      "Processing and combining knowledge by day:\n",
      "Day 2022.0-7-11: 170287 records, avg latency: 237.83ms, avg throughput: 12.00Mbps\n",
      "Day 2022.0-7-12: 157076 records, avg latency: 228.23ms, avg throughput: 12.71Mbps\n",
      "Day 2022.0-7-13: 136885 records, avg latency: 150.62ms, avg throughput: 17.17Mbps\n",
      "After duplicate removal: (2439152, 16)\n",
      "Removed 2548494 duplicate rows\n",
      "\n",
      "Processing and combining knowledge by day:\n",
      "Day 2022.0-7-11: 170287 records, avg latency: 237.83ms, avg throughput: 12.00Mbps\n",
      "Day 2022.0-7-12: 157076 records, avg latency: 228.23ms, avg throughput: 12.71Mbps\n",
      "Day 2022.0-7-13: 136885 records, avg latency: 150.62ms, avg throughput: 17.17Mbps\n",
      "Day 2022.0-7-14: 155939 records, avg latency: 273.59ms, avg throughput: 14.02Mbps\n",
      "Day 2022.0-7-15: 156862 records, avg latency: 261.93ms, avg throughput: 12.19Mbps\n",
      "Day 2022.0-7-18: 144979 records, avg latency: 291.89ms, avg throughput: 13.18Mbps\n",
      "Day 2022.0-7-19: 119155 records, avg latency: 204.60ms, avg throughput: 17.72Mbps\n",
      "Day 2022.0-7-14: 155939 records, avg latency: 273.59ms, avg throughput: 14.02Mbps\n",
      "Day 2022.0-7-15: 156862 records, avg latency: 261.93ms, avg throughput: 12.19Mbps\n",
      "Day 2022.0-7-18: 144979 records, avg latency: 291.89ms, avg throughput: 13.18Mbps\n",
      "Day 2022.0-7-19: 119155 records, avg latency: 204.60ms, avg throughput: 17.72Mbps\n",
      "Day 2022.0-7-20: 145864 records, avg latency: 224.60ms, avg throughput: 14.08Mbps\n",
      "Day 2022.0-7-21: 147127 records, avg latency: 278.21ms, avg throughput: 13.22Mbps\n",
      "Day 2022.0-7-22: 141596 records, avg latency: 307.60ms, avg throughput: 13.53Mbps\n",
      "Day 2022.0-7-4: 225073 records, avg latency: 295.61ms, avg throughput: 10.20Mbps\n",
      "Day 2022.0-7-20: 145864 records, avg latency: 224.60ms, avg throughput: 14.08Mbps\n",
      "Day 2022.0-7-21: 147127 records, avg latency: 278.21ms, avg throughput: 13.22Mbps\n",
      "Day 2022.0-7-22: 141596 records, avg latency: 307.60ms, avg throughput: 13.53Mbps\n",
      "Day 2022.0-7-4: 225073 records, avg latency: 295.61ms, avg throughput: 10.20Mbps\n",
      "Day 2022.0-7-5: 205967 records, avg latency: 218.67ms, avg throughput: 11.00Mbps\n",
      "Day 2022.0-7-6: 211982 records, avg latency: 269.62ms, avg throughput: 11.24Mbps\n",
      "Day 2022.0-7-7: 158091 records, avg latency: 246.33ms, avg throughput: 12.74Mbps\n",
      "Day 2022.0-7-8: 162269 records, avg latency: 266.91ms, avg throughput: 11.55Mbps\n",
      "\n",
      "Combined daily knowledge:\n",
      "            day  records  avg_latency  avg_throughput\n",
      "0   2022.0-7-11   170287   237.828803       11.995328\n",
      "1   2022.0-7-12   157076   228.233146       12.711843\n",
      "2   2022.0-7-13   136885   150.620103       17.174449\n",
      "3   2022.0-7-14   155939   273.588665       14.015773\n",
      "4   2022.0-7-15   156862   261.932529       12.188565\n",
      "5   2022.0-7-18   144979   291.885234       13.181001\n",
      "6   2022.0-7-19   119155   204.599706       17.715106\n",
      "7   2022.0-7-20   145864   224.595716       14.075087\n",
      "8   2022.0-7-21   147127   278.210894       13.217167\n",
      "9   2022.0-7-22   141596   307.599073       13.525707\n",
      "10   2022.0-7-4   225073   295.610738       10.199049\n",
      "11   2022.0-7-5   205967   218.671548       10.998265\n",
      "12   2022.0-7-6   211982   269.618728       11.236458\n",
      "13   2022.0-7-7   158091   246.327439       12.741548\n",
      "14   2022.0-7-8   162269   266.911776       11.547572\n",
      "Day 2022.0-7-5: 205967 records, avg latency: 218.67ms, avg throughput: 11.00Mbps\n",
      "Day 2022.0-7-6: 211982 records, avg latency: 269.62ms, avg throughput: 11.24Mbps\n",
      "Day 2022.0-7-7: 158091 records, avg latency: 246.33ms, avg throughput: 12.74Mbps\n",
      "Day 2022.0-7-8: 162269 records, avg latency: 266.91ms, avg throughput: 11.55Mbps\n",
      "\n",
      "Combined daily knowledge:\n",
      "            day  records  avg_latency  avg_throughput\n",
      "0   2022.0-7-11   170287   237.828803       11.995328\n",
      "1   2022.0-7-12   157076   228.233146       12.711843\n",
      "2   2022.0-7-13   136885   150.620103       17.174449\n",
      "3   2022.0-7-14   155939   273.588665       14.015773\n",
      "4   2022.0-7-15   156862   261.932529       12.188565\n",
      "5   2022.0-7-18   144979   291.885234       13.181001\n",
      "6   2022.0-7-19   119155   204.599706       17.715106\n",
      "7   2022.0-7-20   145864   224.595716       14.075087\n",
      "8   2022.0-7-21   147127   278.210894       13.217167\n",
      "9   2022.0-7-22   141596   307.599073       13.525707\n",
      "10   2022.0-7-4   225073   295.610738       10.199049\n",
      "11   2022.0-7-5   205967   218.671548       10.998265\n",
      "12   2022.0-7-6   211982   269.618728       11.236458\n",
      "13   2022.0-7-7   158091   246.327439       12.741548\n",
      "14   2022.0-7-8   162269   266.911776       11.547572\n",
      "\n",
      " Clean dataset saved to: c:\\Users\\13min\\Final-Group-ML-Project-Theme-5\\data\\my_clean_data_after_assurance.csv\n",
      " Ready for EDA: 2439152 rows, 16 columns\n",
      "\n",
      "Next steps:\n",
      "1. Use the new file for EDA: pd.read_csv('../data/my_clean_data_after_assurance.csv')\n",
      "2. Original file preserved at: ../data/my_clean_data_with_imputation.csv\n",
      "\n",
      " Clean dataset saved to: c:\\Users\\13min\\Final-Group-ML-Project-Theme-5\\data\\my_clean_data_after_assurance.csv\n",
      " Ready for EDA: 2439152 rows, 16 columns\n",
      "\n",
      "Next steps:\n",
      "1. Use the new file for EDA: pd.read_csv('../data/my_clean_data_after_assurance.csv')\n",
      "2. Original file preserved at: ../data/my_clean_data_with_imputation.csv\n"
     ]
    }
   ],
   "source": [
    "# Based on investigation - these are data collection errors, not valid measurements\n",
    "print(\"Before duplicate removal:\", df.shape)\n",
    "df_clean = df.drop_duplicates()\n",
    "print(\"After duplicate removal:\", df_clean.shape)\n",
    "print(f\"Removed {len(df) - len(df_clean)} duplicate rows\")\n",
    "\n",
    "# Process by day and combine knowledge\n",
    "if 'day_id' in df_clean.columns and len(unique_days) > 0:\n",
    "    print(f\"\\nProcessing and combining knowledge by day:\")\n",
    "    daily_stats = []\n",
    "    for day in unique_days:\n",
    "        day_data = df_clean[df_clean['day_id'] == day]\n",
    "        stats = {\n",
    "            'day': day,\n",
    "            'records': len(day_data),\n",
    "            'avg_latency': day_data[latency_cols].mean().mean(),\n",
    "            'avg_throughput': day_data[throughput_cols].mean().mean()\n",
    "        }\n",
    "        daily_stats.append(stats)\n",
    "        print(f\"Day {day}: {len(day_data)} records, avg latency: {stats['avg_latency']:.2f}ms, avg throughput: {stats['avg_throughput']:.2f}Mbps\")\n",
    "    \n",
    "    # Combine daily knowledge into summary\n",
    "    daily_df = pd.DataFrame(daily_stats)\n",
    "    print(\"\\nCombined daily knowledge:\")\n",
    "    print(daily_df)\n",
    "\n",
    "# Save cleaned dataset to new file for EDA team - fix path to go to project root\n",
    "output_file = data_folder / \"my_clean_data_after_assurance.csv\"\n",
    "df_clean.to_csv(output_file, index=False)\n",
    "print(f\"\\n Clean dataset saved to: {output_file}\")\n",
    "print(f\" Ready for EDA: {len(df_clean)} rows, {len(df_clean.columns)} columns\")\n",
    "print(\"\\nNext steps:\")\n",
    "print(\"1. Use the new file for EDA: pd.read_csv('../data/my_clean_data_after_assurance.csv')\")\n",
    "print(\"2. Original file preserved at: ../data/my_clean_data_with_imputation.csv\")"
   ]
  }
 ],
 "metadata": {
  "kernelspec": {
   "display_name": "base",
   "language": "python",
   "name": "python3"
  },
  "language_info": {
   "codemirror_mode": {
    "name": "ipython",
    "version": 3
   },
   "file_extension": ".py",
   "mimetype": "text/x-python",
   "name": "python",
   "nbconvert_exporter": "python",
   "pygments_lexer": "ipython3",
   "version": "3.12.7"
  }
 },
 "nbformat": 4,
 "nbformat_minor": 5
}
